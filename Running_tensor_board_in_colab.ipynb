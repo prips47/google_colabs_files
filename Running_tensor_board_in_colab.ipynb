{
  "nbformat": 4,
  "nbformat_minor": 0,
  "metadata": {
    "colab": {
      "name": "Running_tensor_board_in_colab.ipynb",
      "version": "0.3.2",
      "provenance": [],
      "include_colab_link": true
    },
    "kernelspec": {
      "name": "python3",
      "display_name": "Python 3"
    }
  },
  "cells": [
    {
      "cell_type": "markdown",
      "metadata": {
        "id": "view-in-github",
        "colab_type": "text"
      },
      "source": [
        "<a href=\"https://colab.research.google.com/github/prips47/google_colabs_files/blob/master/Running_tensor_board_in_colab.ipynb\" target=\"_parent\"><img src=\"https://colab.research.google.com/assets/colab-badge.svg\" alt=\"Open In Colab\"/></a>"
      ]
    },
    {
      "cell_type": "code",
      "metadata": {
        "id": "FyZTqRrFWgA4",
        "colab_type": "code",
        "colab": {
          "base_uri": "https://localhost:8080/",
          "height": 128
        },
        "outputId": "4de088ac-b6a9-4ff8-f561-74eb6b0d6ec9"
      },
      "source": [
        "import tensorflow as tf\n",
        "with tf.name_scope(\"My_subgraph1\"):\n",
        "  with tf.name_scope(\"Scope_1\"):\n",
        "    a=tf.add(1,2,name=\"add1\")\n",
        "    b=tf.multiply(a,3,name=\"mul1\")\n",
        "  with tf.name_scope(\"Scope_2\"):\n",
        "    c=tf.add(4,5,name=\"add2\")\n",
        "    d=tf.multiply(c,6,name=\"mul2\")\n",
        "    \n",
        "with tf.name_scope(\"My_subgraph1\"):\n",
        "  e=tf.multiply(4,5,name=\"mul3\")\n",
        "  f=tf.div(d,e,name=\"div3\")\n",
        "\n",
        "g=tf.add(b,d)\n",
        "h=tf.multiply(g,f)\n",
        "\n",
        "with tf.Session() as sess:\n",
        "  writer=tf.summary.FileWriter(\"./logs\",sess.graph)\n",
        "  print(sess.run(h))\n",
        "  writer.close()"
      ],
      "execution_count": 2,
      "outputs": [
        {
          "output_type": "stream",
          "text": [
            "WARNING:tensorflow:From <ipython-input-2-f55fac167c4b>:12: div (from tensorflow.python.ops.math_ops) is deprecated and will be removed in a future version.\n",
            "Instructions for updating:\n",
            "Deprecated in favor of operator or tf.math.divide.\n",
            "126\n"
          ],
          "name": "stdout"
        }
      ]
    },
    {
      "cell_type": "code",
      "metadata": {
        "id": "vY4rZywuZkGS",
        "colab_type": "code",
        "colab": {}
      },
      "source": [
        ""
      ],
      "execution_count": 0,
      "outputs": []
    }
  ]
}