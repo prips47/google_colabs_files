{
  "nbformat": 4,
  "nbformat_minor": 0,
  "metadata": {
    "colab": {
      "name": "Basic_commands_gcollab.ipynb",
      "version": "0.3.2",
      "provenance": [],
      "include_colab_link": true
    },
    "kernelspec": {
      "name": "python3",
      "display_name": "Python 3"
    },
    "accelerator": "GPU"
  },
  "cells": [
    {
      "cell_type": "markdown",
      "metadata": {
        "id": "view-in-github",
        "colab_type": "text"
      },
      "source": [
        "<a href=\"https://colab.research.google.com/github/prips47/google_colabs_files/blob/master/Basic_commands_gcollab.ipynb\" target=\"_parent\"><img src=\"https://colab.research.google.com/assets/colab-badge.svg\" alt=\"Open In Colab\"/></a>"
      ]
    },
    {
      "cell_type": "code",
      "metadata": {
        "id": "KYhqOJmgAISW",
        "colab_type": "code",
        "colab": {
          "base_uri": "https://localhost:8080/",
          "height": 63
        },
        "outputId": "9504b0bc-c65a-4d2e-9e3e-c59619e5b35a"
      },
      "source": [
        "# All the unix command can be used, but prefixed by exclamation mark(!)\n",
        "\n",
        "!pwd  #to see the path of our current directory\n",
        "\n"
      ],
      "execution_count": 1,
      "outputs": [
        {
          "output_type": "stream",
          "text": [
            "/content\n"
          ],
          "name": "stdout"
        }
      ]
    },
    {
      "cell_type": "code",
      "metadata": {
        "id": "PvwlDBsEAVVu",
        "colab_type": "code",
        "colab": {
          "base_uri": "https://localhost:8080/",
          "height": 34
        },
        "outputId": "00a3f123-d7b2-4d39-b55c-3d2a9dd886a0"
      },
      "source": [
        "cd sample_data  \n",
        "# to change our location to sample_data directory inside the current directory"
      ],
      "execution_count": 2,
      "outputs": [
        {
          "output_type": "stream",
          "text": [
            "/content/sample_data\n"
          ],
          "name": "stdout"
        }
      ]
    },
    {
      "cell_type": "code",
      "metadata": {
        "id": "3gvJECNNAgTF",
        "colab_type": "code",
        "colab": {
          "base_uri": "https://localhost:8080/",
          "height": 97
        },
        "outputId": "9e57a47f-2a77-43cd-fa08-1a8112b9e5de"
      },
      "source": [
        "!ls  # to show list of directories in current directory"
      ],
      "execution_count": 3,
      "outputs": [
        {
          "output_type": "stream",
          "text": [
            "anscombe.json\t\t      mnist_test.csv\n",
            "california_housing_test.csv   mnist_train_small.csv\n",
            "california_housing_train.csv  README.md\n"
          ],
          "name": "stdout"
        }
      ]
    },
    {
      "cell_type": "code",
      "metadata": {
        "id": "7jgtZi8wAqYR",
        "colab_type": "code",
        "colab": {
          "base_uri": "https://localhost:8080/",
          "height": 34
        },
        "outputId": "50f02391-3c10-4602-bed6-ac9087882b6f"
      },
      "source": [
        "cd .. # to go one level back in path of current directory; "
      ],
      "execution_count": 4,
      "outputs": [
        {
          "output_type": "stream",
          "text": [
            "/content\n"
          ],
          "name": "stdout"
        }
      ]
    },
    {
      "cell_type": "code",
      "metadata": {
        "id": "LVr3omJtAyqa",
        "colab_type": "code",
        "colab": {
          "base_uri": "https://localhost:8080/",
          "height": 123
        },
        "outputId": "43db623f-d836-48b9-c1d4-3e1f9bd6c29a"
      },
      "source": [
        "!git clone https://github.com/anujshah1003/own_data_cnn_implementation_keras.git   \n",
        "  #to clone git directory in google colabs"
      ],
      "execution_count": 5,
      "outputs": [
        {
          "output_type": "stream",
          "text": [
            "fatal: destination path 'own_data_cnn_implementation_keras' already exists and is not an empty directory.\n"
          ],
          "name": "stdout"
        }
      ]
    },
    {
      "cell_type": "code",
      "metadata": {
        "id": "Wz5uYazJA9vf",
        "colab_type": "code",
        "colab": {
          "base_uri": "https://localhost:8080/",
          "height": 34
        },
        "outputId": "620ffe52-70d8-40f9-8734-2d856b7f4951"
      },
      "source": [
        "cd /content/own_data_cnn_implementation_keras"
      ],
      "execution_count": 6,
      "outputs": [
        {
          "output_type": "stream",
          "text": [
            "/content/own_data_cnn_implementation_keras\n"
          ],
          "name": "stdout"
        }
      ]
    },
    {
      "cell_type": "code",
      "metadata": {
        "id": "jTM9IzUuB8YB",
        "colab_type": "code",
        "colab": {
          "base_uri": "https://localhost:8080/",
          "height": 80
        },
        "outputId": "9d1c6371-46db-44c2-f181-40c594562cf2"
      },
      "source": [
        "!ls"
      ],
      "execution_count": 7,
      "outputs": [
        {
          "output_type": "stream",
          "text": [
            "_config.yml\t    data.zip   updated_custom_data_cnn.py\n",
            "custom_data_cnn.py  README.md\n"
          ],
          "name": "stdout"
        }
      ]
    },
    {
      "cell_type": "code",
      "metadata": {
        "id": "BACXpQu6CAa8",
        "colab_type": "code",
        "colab": {}
      },
      "source": [
        "!rm -rf custom_data_cnn.py updated_custom_data_cnn.py # to remove files from current directory reversibly and forcebly "
      ],
      "execution_count": 0,
      "outputs": []
    },
    {
      "cell_type": "code",
      "metadata": {
        "id": "IscYFgZZCBoN",
        "colab_type": "code",
        "colab": {
          "base_uri": "https://localhost:8080/",
          "height": 63
        },
        "outputId": "87f2486d-0ea2-435f-b097-c0b2ae0bce68"
      },
      "source": [
        "!ls"
      ],
      "execution_count": 9,
      "outputs": [
        {
          "output_type": "stream",
          "text": [
            "_config.yml  data.zip  README.md\n"
          ],
          "name": "stdout"
        }
      ]
    },
    {
      "cell_type": "code",
      "metadata": {
        "id": "ntqQ6VH0DB72",
        "colab_type": "code",
        "colab": {}
      },
      "source": [
        "!rm -rf _config.yml README.md"
      ],
      "execution_count": 0,
      "outputs": []
    },
    {
      "cell_type": "code",
      "metadata": {
        "id": "f7LvkL_IDiUn",
        "colab_type": "code",
        "colab": {
          "base_uri": "https://localhost:8080/",
          "height": 63
        },
        "outputId": "cfbfdd43-d387-4eba-8949-5be0b36dedc5"
      },
      "source": [
        "!ls"
      ],
      "execution_count": 17,
      "outputs": [
        {
          "output_type": "stream",
          "text": [
            "data.zip  dm\n"
          ],
          "name": "stdout"
        }
      ]
    },
    {
      "cell_type": "code",
      "metadata": {
        "id": "ul4eLujSDkGM",
        "colab_type": "code",
        "colab": {
          "base_uri": "https://localhost:8080/",
          "height": 51
        },
        "outputId": "33ee3c84-38b7-4007-9a8b-17439a2b8f52"
      },
      "source": [
        "#to unzip the zip file ( python script)\n",
        "from zipfile import ZipFile\n",
        "file_name=\"data.zip\"\n",
        "\n",
        "#opening the zip file in read me mode \n",
        "with ZipFile(file_name,'r') as zip:\n",
        " print('Extracting the file now...')\n",
        " zip.extractall()\n",
        " print('Done')\n"
      ],
      "execution_count": 22,
      "outputs": [
        {
          "output_type": "stream",
          "text": [
            "Extracting the file now...\n",
            "Done\n"
          ],
          "name": "stdout"
        }
      ]
    },
    {
      "cell_type": "code",
      "metadata": {
        "id": "O2X4OmhkEhV5",
        "colab_type": "code",
        "colab": {
          "base_uri": "https://localhost:8080/",
          "height": 63
        },
        "outputId": "f172d2d9-5e74-485b-8de8-5ad271c2b716"
      },
      "source": [
        "!ls"
      ],
      "execution_count": 23,
      "outputs": [
        {
          "output_type": "stream",
          "text": [
            "data  data.zip\tdm\n"
          ],
          "name": "stdout"
        }
      ]
    },
    {
      "cell_type": "code",
      "metadata": {
        "id": "zfzMF0mBFIXq",
        "colab_type": "code",
        "colab": {}
      },
      "source": [
        "!rm -rf data.zip dm"
      ],
      "execution_count": 0,
      "outputs": []
    },
    {
      "cell_type": "code",
      "metadata": {
        "id": "aNo8E3pUFQ5h",
        "colab_type": "code",
        "colab": {
          "base_uri": "https://localhost:8080/",
          "height": 63
        },
        "outputId": "4e87e2d2-f192-4354-b89b-b303620380a1"
      },
      "source": [
        "!ls"
      ],
      "execution_count": 25,
      "outputs": [
        {
          "output_type": "stream",
          "text": [
            "data\n"
          ],
          "name": "stdout"
        }
      ]
    },
    {
      "cell_type": "code",
      "metadata": {
        "id": "LgwCdnkKFSi4",
        "colab_type": "code",
        "colab": {
          "base_uri": "https://localhost:8080/",
          "height": 34
        },
        "outputId": "ec0085c0-f51b-45f1-b19f-88bfbdc0fc42"
      },
      "source": [
        "cd data"
      ],
      "execution_count": 26,
      "outputs": [
        {
          "output_type": "stream",
          "text": [
            "/content/own_data_cnn_implementation_keras/data\n"
          ],
          "name": "stdout"
        }
      ]
    },
    {
      "cell_type": "code",
      "metadata": {
        "id": "hWudALV2FfbQ",
        "colab_type": "code",
        "colab": {
          "base_uri": "https://localhost:8080/",
          "height": 63
        },
        "outputId": "d642f426-5208-4b39-be00-80ca2a9edabf"
      },
      "source": [
        "!ls"
      ],
      "execution_count": 27,
      "outputs": [
        {
          "output_type": "stream",
          "text": [
            "cats  dogs  horses  humans\n"
          ],
          "name": "stdout"
        }
      ]
    },
    {
      "cell_type": "code",
      "metadata": {
        "id": "beyTH0UdFgoa",
        "colab_type": "code",
        "colab": {
          "base_uri": "https://localhost:8080/",
          "height": 34
        },
        "outputId": "afaa8dd8-93e4-4645-d52c-b94fa25e53fa"
      },
      "source": [
        "cd cats"
      ],
      "execution_count": 28,
      "outputs": [
        {
          "output_type": "stream",
          "text": [
            "/content/own_data_cnn_implementation_keras/data/cats\n"
          ],
          "name": "stdout"
        }
      ]
    },
    {
      "cell_type": "code",
      "metadata": {
        "id": "X9qck1jdFk24",
        "colab_type": "code",
        "colab": {}
      },
      "source": [
        "cd /content/own_data_cnn_implementation_keras/data/cats"
      ],
      "execution_count": 0,
      "outputs": []
    },
    {
      "cell_type": "code",
      "metadata": {
        "id": "zt9Ad_OKF--K",
        "colab_type": "code",
        "colab": {}
      },
      "source": [
        "cd / # to go to the topmost level directory"
      ],
      "execution_count": 0,
      "outputs": []
    }
  ]
}