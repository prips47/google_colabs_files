{
  "nbformat": 4,
  "nbformat_minor": 0,
  "metadata": {
    "colab": {
      "name": "variables_constant_placeholders.ipynb",
      "version": "0.3.2",
      "provenance": [],
      "include_colab_link": true
    },
    "kernelspec": {
      "name": "python3",
      "display_name": "Python 3"
    }
  },
  "cells": [
    {
      "cell_type": "markdown",
      "metadata": {
        "id": "view-in-github",
        "colab_type": "text"
      },
      "source": [
        "<a href=\"https://colab.research.google.com/github/prips47/google_colabs_files/blob/master/variables_constant_placeholders.ipynb\" target=\"_parent\"><img src=\"https://colab.research.google.com/assets/colab-badge.svg\" alt=\"Open In Colab\"/></a>"
      ]
    },
    {
      "cell_type": "code",
      "metadata": {
        "id": "-YdPk9cU4WLc",
        "colab_type": "code",
        "colab": {}
      },
      "source": [
        "import numpy as np\n",
        "import tensorflow as tf"
      ],
      "execution_count": 0,
      "outputs": []
    },
    {
      "cell_type": "code",
      "metadata": {
        "id": "QEu2Eobg42k_",
        "colab_type": "code",
        "outputId": "ad0e9e37-e02a-458f-808b-fb2ba9143180",
        "colab": {
          "base_uri": "https://localhost:8080/",
          "height": 51
        }
      },
      "source": [
        "#Explain the concepts constants using tensorflow code\n",
        "a=tf.constant(3)\n",
        "b=tf.constant(5)\n",
        "c=a+b\n",
        "\n",
        "#till. now we have only created computational graph; not executed\n",
        "\n",
        "#invoke session to execute the graph\n",
        "with tf.Session() as sess:\n",
        "  outp1=sess.run(c)\n",
        "  print(outp1)\n",
        "  \n",
        "#another way to execute the graph\n",
        "tf.InteractiveSession()\n",
        "print(c.eval())"
      ],
      "execution_count": 0,
      "outputs": [
        {
          "output_type": "stream",
          "text": [
            "8\n",
            "8\n"
          ],
          "name": "stdout"
        }
      ]
    },
    {
      "cell_type": "code",
      "metadata": {
        "id": "TK_pgupK5hk9",
        "colab_type": "code",
        "outputId": "03a2ec67-040d-47eb-922d-96bfb6a5979f",
        "colab": {
          "base_uri": "https://localhost:8080/",
          "height": 102
        }
      },
      "source": [
        "#Explain the concepts of variables in tensorflow code\n",
        "a=tf.Variable(0,name='input')\n",
        "b=tf.constant(1)\n",
        "temp=tf.add(a,b)\n",
        "updated_value=tf.assign(a,temp);\n",
        "\n",
        "#initialising the variables\n",
        "tg=tf.initialize_all_variables()\n",
        "with tf.Session() as sess:\n",
        "  sess.run(tg)\n",
        "  print(sess.run(a))\n",
        "#executing the computational graph\n",
        "  for i in range(4):\n",
        "    sess.run(updated_value)\n",
        "    print(sess.run(a))"
      ],
      "execution_count": 0,
      "outputs": [
        {
          "output_type": "stream",
          "text": [
            "0\n",
            "1\n",
            "2\n",
            "3\n",
            "4\n"
          ],
          "name": "stdout"
        }
      ]
    },
    {
      "cell_type": "code",
      "metadata": {
        "id": "GKoL6KPY6fUC",
        "colab_type": "code",
        "outputId": "620f7482-91e6-4b6d-b428-35715c02a9f2",
        "colab": {
          "base_uri": "https://localhost:8080/",
          "height": 119
        }
      },
      "source": [
        " #Explain placeholders in tensorflow\n",
        "  #imput is 2d matrix\n",
        "  x=tf.placeholder(\"float32\",[None,3]) # none means can be any value. in 1d array \n",
        "  #it's no of elements and in 2d array it's no. of rows\n",
        "  y=x**2 #Y=square(x)\n",
        "  \n",
        "  with tf.Session() as sess:\n",
        "    result=sess.run(y,feed_dict={x:[[1,2,3],[4,5,6]] })\n",
        "    print(result)\n",
        "    \n",
        "    \n",
        "#input is 1d matrix \n",
        "  x1=tf.placeholder(\"float32\",3) # none means can be any value. in 1d array \n",
        "  #it's no of elements and in 2d array it's no. of rows\n",
        "  y1=x1**2 #Y=square(x)\n",
        "  a=input()\n",
        "  b=input()\n",
        "  c=input()\n",
        "  feed_dict={x1:[a,b,c]}\n",
        "  with tf.Session() as sess:\n",
        "   # for i in range(3):\n",
        "      result=sess.run(y1,feed_dict)\n",
        "      print(result)\n",
        "    \n",
        "    \n"
      ],
      "execution_count": 0,
      "outputs": [
        {
          "output_type": "stream",
          "text": [
            "[[ 1.  4.  9.]\n",
            " [16. 25. 36.]]\n",
            "2 \n",
            "3\n",
            "4\n",
            "[ 4.  9. 16.]\n"
          ],
          "name": "stdout"
        }
      ]
    },
    {
      "cell_type": "code",
      "metadata": {
        "id": "xoZTjig3H8Xt",
        "colab_type": "code",
        "colab": {}
      },
      "source": [
        ""
      ],
      "execution_count": 0,
      "outputs": []
    }
  ]
}